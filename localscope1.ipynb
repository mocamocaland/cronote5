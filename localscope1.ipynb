{
 "cells": [
  {
   "cell_type": "code",
   "execution_count": 1,
   "metadata": {},
   "outputs": [
    {
     "name": "stdout",
     "output_type": "stream",
     "text": [
      "{'h': <module 'os' from '/usr/local/bin/../../../Library/Frameworks/Python.framework/Versions/3.6/lib/python3.6/os.py'>, 'g': <class '__main__.something.<locals>.g'>, 'f': <function something.<locals>.f at 0x104ad8b70>, 'e': 2, 'd': {}, 'c': (), 'b': 1, 'a': 0}\n"
     ]
    }
   ],
   "source": [
    "def something(a, b=1, *c, **d):\n",
    "    e = 2\n",
    "    def f(): pass # 空の関数定義\n",
    "    class g: pass ## 空のクラス定義\n",
    "    import os as h\n",
    "    print(locals())  # locals はローカルスコープの変数を取得する関数\n",
    "    \n",
    "something(0)"
   ]
  },
  {
   "cell_type": "code",
   "execution_count": null,
   "metadata": {},
   "outputs": [],
   "source": [
    "some"
   ]
  }
 ],
 "metadata": {
  "kernelspec": {
   "display_name": "Python 3",
   "language": "python",
   "name": "python3"
  },
  "language_info": {
   "codemirror_mode": {
    "name": "ipython",
    "version": 3
   },
   "file_extension": ".py",
   "mimetype": "text/x-python",
   "name": "python",
   "nbconvert_exporter": "python",
   "pygments_lexer": "ipython3",
   "version": "3.6.1"
  }
 },
 "nbformat": 4,
 "nbformat_minor": 2
}
